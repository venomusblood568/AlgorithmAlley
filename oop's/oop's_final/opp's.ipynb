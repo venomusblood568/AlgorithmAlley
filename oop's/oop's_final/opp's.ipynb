{
  "nbformat": 4,
  "nbformat_minor": 0,
  "metadata": {
    "colab": {
      "provenance": [],
      "authorship_tag": "ABX9TyP1uyKn+mbGi8uuufmOKyOF",
      "include_colab_link": true
    },
    "kernelspec": {
      "name": "python3",
      "display_name": "Python 3"
    },
    "language_info": {
      "name": "python"
    }
  },
  "cells": [
    {
      "cell_type": "markdown",
      "metadata": {
        "id": "view-in-github",
        "colab_type": "text"
      },
      "source": [
        "<a href=\"https://colab.research.google.com/github/venomusblood568/OOP-S_material/blob/main/opp's.ipynb\" target=\"_parent\"><img src=\"https://colab.research.google.com/assets/colab-badge.svg\" alt=\"Open In Colab\"/></a>"
      ]
    },
    {
      "cell_type": "markdown",
      "source": [
        "basic of OOPS"
      ],
      "metadata": {
        "id": "pz0RWpiUSXYN"
      }
    },
    {
      "cell_type": "code",
      "execution_count": null,
      "metadata": {
        "colab": {
          "base_uri": "https://localhost:8080/"
        },
        "id": "v9UjiN6MRko2",
        "outputId": "3feac041-fb5a-4ef0-e66a-bbce9c1714f4"
      },
      "outputs": [
        {
          "output_type": "execute_result",
          "data": {
            "text/plain": []
          },
          "metadata": {},
          "execution_count": 3
        }
      ],
      "source": [
        "%%shell\n",
        "cat > Main.java <<EOF\n",
        "class Pen{\n",
        "    String color; //string is data and other like int are also fall in the category of data\n",
        "    String type; //ballpoint pen and gel pen\n",
        "\n",
        "    public void write(){\n",
        "        System.out.println(\"writing somthing\"); //this write() is a function\n",
        "    }\n",
        "    //now we want to print the type and color of the pen as well\n",
        "}\n",
        "\n",
        "public class Main {\n",
        "\n",
        "    public static void main(String[] args) {\n",
        "\tPen Pen1 = new Pen();\n",
        "    Pen1.color = \"blue\";\n",
        "    Pen1.type = \"gel\";\n",
        "    Pen1.write(); //.write is the way you call the function\n",
        "    }\n",
        "}\n",
        "\n",
        "EOF"
      ]
    },
    {
      "cell_type": "code",
      "source": [
        "%%shell\n",
        "javac Main.java\n",
        "java Main"
      ],
      "metadata": {
        "colab": {
          "base_uri": "https://localhost:8080/"
        },
        "id": "_wqHNkAmRzSm",
        "outputId": "2610d1c9-612d-4c87-df13-92d1585fcfd3"
      },
      "execution_count": null,
      "outputs": [
        {
          "output_type": "stream",
          "name": "stdout",
          "text": [
            "writing somthing\n"
          ]
        },
        {
          "output_type": "execute_result",
          "data": {
            "text/plain": []
          },
          "metadata": {},
          "execution_count": 4
        }
      ]
    },
    {
      "cell_type": "markdown",
      "source": [
        "\n",
        "\n",
        "---\n",
        "\n"
      ],
      "metadata": {
        "id": "DFkytrl1SgPF"
      }
    },
    {
      "cell_type": "markdown",
      "source": [
        "method THIS (this is a keywords)"
      ],
      "metadata": {
        "id": "MTU_XhAAShzX"
      }
    },
    {
      "cell_type": "markdown",
      "source": [
        " the \"this\" keyword helps us refer to the current instance of the class and access its members, ensuring proper differentiation between instance variables and local variables or parameters."
      ],
      "metadata": {
        "id": "BJWFYj1SVO5B"
      }
    },
    {
      "cell_type": "markdown",
      "source": [
        "exmaple real-life example of a Person class that has an instance variable called \"name\". The class also has a method called \"introduce()\" which prints a greeting message along with the person's name. Here's how the \"this\" keyword can be used in this scenario:"
      ],
      "metadata": {
        "id": "ztYczVySVQDu"
      }
    },
    {
      "cell_type": "code",
      "source": [
        "%%shell\n",
        "cat > Main.java <<EOF\n",
        "class Pen{\n",
        "    String color; //string is data and other like int are also fall in the category of data\n",
        "    String type; //ballpoint pen and gel pen\n",
        "\n",
        "    public void write(){\n",
        "        System.out.println(\"writing somthing\"); //this write() is a function\n",
        "    }\n",
        "    //now we want to print the type and color of the pen as well\n",
        "    public void Printcolor(){\n",
        "      System.out.println(this.color);\n",
        "    }\n",
        "}\n",
        "\n",
        "public class Main{\n",
        "\n",
        "    public static void main(String[] args) {\n",
        "\t  Pen Pen1 = new Pen();\n",
        "    Pen1.color = \"blue\";\n",
        "    Pen1.type = \"gel\";\n",
        "  \n",
        "    Pen Pen2 = new Pen();\n",
        "    Pen2.color = \"black\";\n",
        "    Pen2.type = \"ballpoint\";\n",
        "    \n",
        "    Pen1.Printcolor();\n",
        "    Pen2.Printcolor();\n",
        "    }\n",
        "}\n",
        "\n",
        "EOF"
      ],
      "metadata": {
        "colab": {
          "base_uri": "https://localhost:8080/"
        },
        "id": "lyMHcin_SZKf",
        "outputId": "c228795b-8fe0-41d4-e517-465431a135bf"
      },
      "execution_count": null,
      "outputs": [
        {
          "output_type": "execute_result",
          "data": {
            "text/plain": []
          },
          "metadata": {},
          "execution_count": 5
        }
      ]
    },
    {
      "cell_type": "code",
      "source": [
        "%%shell\n",
        "javac Main.java\n",
        "java Main"
      ],
      "metadata": {
        "colab": {
          "base_uri": "https://localhost:8080/"
        },
        "id": "7vzEJ_6zUfHz",
        "outputId": "1d27a247-286d-4f71-8bdb-f303f9ecaeca"
      },
      "execution_count": null,
      "outputs": [
        {
          "output_type": "stream",
          "name": "stdout",
          "text": [
            "blue\n",
            "black\n"
          ]
        },
        {
          "output_type": "execute_result",
          "data": {
            "text/plain": []
          },
          "metadata": {},
          "execution_count": 6
        }
      ]
    },
    {
      "cell_type": "markdown",
      "source": [
        "\n",
        "\n",
        "---\n",
        "\n"
      ],
      "metadata": {
        "id": "qIZIiSKFVXwl"
      }
    },
    {
      "cell_type": "code",
      "source": [
        "%%shell\n",
        "cat > Main.java <<EOF\n",
        "\n",
        "class Student{\n",
        "  String name;\n",
        "  int age;\n",
        "\n",
        "  public void Info(){\n",
        "    System.out.println(this.name);\n",
        "    System.out.println(this.age);\n",
        "  }\n",
        "}\n",
        "\n",
        "public class Main{\n",
        "  public static void main(String[] args){\n",
        "    Student s1 = new Student(); //new is a keywords which will allocate a place in moemory head where all the value will be stored.\n",
        "    s1.name = \"sam\";\n",
        "    s1.age = 20;\n",
        "\n",
        "    s1.Info();\n",
        "  }\n",
        "}\n",
        "\n",
        "EOF"
      ],
      "metadata": {
        "id": "LHd6n3n7VZXK",
        "colab": {
          "base_uri": "https://localhost:8080/"
        },
        "outputId": "bfdb2306-374f-4c40-9117-396537b3684f"
      },
      "execution_count": null,
      "outputs": [
        {
          "output_type": "execute_result",
          "data": {
            "text/plain": []
          },
          "metadata": {},
          "execution_count": 24
        }
      ]
    },
    {
      "cell_type": "code",
      "source": [
        "%%shell\n",
        "javac Main.java\n",
        "java Main"
      ],
      "metadata": {
        "colab": {
          "base_uri": "https://localhost:8080/"
        },
        "id": "mP1d6vgcJpPQ",
        "outputId": "0964d5d1-b782-4f75-9a86-8b7a97e37d6a"
      },
      "execution_count": null,
      "outputs": [
        {
          "output_type": "stream",
          "name": "stdout",
          "text": [
            "sam\n",
            "20\n"
          ]
        },
        {
          "output_type": "execute_result",
          "data": {
            "text/plain": []
          },
          "metadata": {},
          "execution_count": 25
        }
      ]
    },
    {
      "cell_type": "markdown",
      "source": [
        "\n",
        "\n",
        "---\n",
        "\n"
      ],
      "metadata": {
        "id": "5fAY7VSwPCQk"
      }
    },
    {
      "cell_type": "markdown",
      "source": [
        "**constructors** = \n",
        "A constructor is a special method in a class that is automatically invoked when an object is created, used to initialize the object's state or perform setup operations.\n",
        "\n",
        "\n",
        "> Property of constructor\n",
        "  1. same name of class as constructor. \n",
        "     eg = class student{}\n",
        "          student s1 = new stduent();\n",
        "  2.   they dont retuen anything although they are function they dont return\n",
        "        also they dont have any return type like string, int or even void. \n",
        "  3. you can call then only one time not like other function which can be called again and again\n",
        "\n",
        "\n",
        "\n",
        "\n",
        "   \n",
        "\n"
      ],
      "metadata": {
        "id": "eysg96_8L1VT"
      }
    },
    {
      "cell_type": "code",
      "source": [],
      "metadata": {
        "id": "07k63NHMOL3w"
      },
      "execution_count": null,
      "outputs": []
    },
    {
      "cell_type": "markdown",
      "source": [
        "**type of constructor**\n",
        "\n",
        "1.   Default Constructor/no-argument constructor/ero-parameter constructor\n",
        "2.   Parameterized Constructor\n",
        "3. copy constructor\n"
      ],
      "metadata": {
        "id": "EpNFHnUUPEGh"
      }
    },
    {
      "cell_type": "markdown",
      "source": [
        "**Default constructor**"
      ],
      "metadata": {
        "id": "Zn6UyqjARBkS"
      }
    },
    {
      "cell_type": "code",
      "source": [
        "%%shell\n",
        "cat > Main.java <<EOF\n",
        "\n",
        "class Student{\n",
        "  String name;\n",
        "  int age;\n",
        "\n",
        "  public void Info(){\n",
        "    System.out.println(this.name);\n",
        "    System.out.println(this.age);\n",
        "  }\n",
        "  Student(){\n",
        "    System.out.println(\"constructor called\");\n",
        "  }\n",
        "}\n",
        "\n",
        "public class Main{\n",
        "  public static void main(String[] args){\n",
        "    Student s1 = new Student(); //new is a keywords which will allocate a place in moemory head where all the value will be stored.\n",
        "    s1.name = \"sam\";\n",
        "    s1.age = 20;\n",
        "\n",
        "    s1.Info();\n",
        "  }\n",
        "}\n",
        "\n",
        "EOF"
      ],
      "metadata": {
        "colab": {
          "base_uri": "https://localhost:8080/"
        },
        "id": "cbsD8KV0P1wo",
        "outputId": "527f8c09-cd2e-4a2e-9289-6b43d142a056"
      },
      "execution_count": null,
      "outputs": [
        {
          "output_type": "execute_result",
          "data": {
            "text/plain": []
          },
          "metadata": {},
          "execution_count": 26
        }
      ]
    },
    {
      "cell_type": "code",
      "source": [
        "%%shell\n",
        "javac Main.java\n",
        "java Main"
      ],
      "metadata": {
        "colab": {
          "base_uri": "https://localhost:8080/"
        },
        "id": "eTP_9kDTQHtl",
        "outputId": "f9291d09-0049-49cb-b5af-f80c07c5e87d"
      },
      "execution_count": null,
      "outputs": [
        {
          "output_type": "stream",
          "name": "stdout",
          "text": [
            "constructor called\n",
            "sam\n",
            "20\n"
          ]
        },
        {
          "output_type": "execute_result",
          "data": {
            "text/plain": []
          },
          "metadata": {},
          "execution_count": 27
        }
      ]
    },
    {
      "cell_type": "markdown",
      "source": [
        "**Parameterized Constructor**"
      ],
      "metadata": {
        "id": "UAdsMt9sRJCH"
      }
    },
    {
      "cell_type": "code",
      "source": [
        "%%shell\n",
        "cat > Main.java <<EOF\n",
        "\n",
        "class Student{\n",
        "  String name;\n",
        "  int age;\n",
        "\n",
        "  public void Info(){\n",
        "    System.out.println(this.name);\n",
        "    System.out.println(this.age);\n",
        "  }\n",
        "  // see in below line we have pass some condition in the constuctor itself \n",
        "  Student(String name, int age){\n",
        "    this.name = name;\n",
        "    this.age = age;\n",
        "}\n",
        "}\n",
        "public class Main{\n",
        "  public static void main(String[] args){\n",
        "    Student s1 = new Student(\"sammy\",21); //new is a keywords which will allocate a place in moemory head where all the value will be stored.\n",
        "    s1.Info();\n",
        "  }\n",
        "}\n",
        "\n",
        "EOF"
      ],
      "metadata": {
        "colab": {
          "base_uri": "https://localhost:8080/"
        },
        "id": "Sc4yJ1A8RTvE",
        "outputId": "cf0e43f5-425c-4482-aad3-de48e8a65c2c"
      },
      "execution_count": null,
      "outputs": [
        {
          "output_type": "execute_result",
          "data": {
            "text/plain": []
          },
          "metadata": {},
          "execution_count": 37
        }
      ]
    },
    {
      "cell_type": "code",
      "source": [
        "%%shell\n",
        "javac Main.java\n",
        "java Main"
      ],
      "metadata": {
        "colab": {
          "base_uri": "https://localhost:8080/"
        },
        "id": "yWglde8wRlXl",
        "outputId": "0dffcca1-dbfe-477e-c7a2-67a976baa393"
      },
      "execution_count": null,
      "outputs": [
        {
          "output_type": "stream",
          "name": "stdout",
          "text": [
            "sammy\n",
            "21\n"
          ]
        },
        {
          "output_type": "execute_result",
          "data": {
            "text/plain": []
          },
          "metadata": {},
          "execution_count": 38
        }
      ]
    },
    {
      "cell_type": "markdown",
      "source": [
        "**copy constructor**"
      ],
      "metadata": {
        "id": "APH78hE3SNyz"
      }
    },
    {
      "cell_type": "markdown",
      "source": [
        "**why we need to define a empty fucntion in copy constructor method**\n",
        "\n",
        "\n",
        "Defining an empty copy constructor prevents the automatic generation of a default copy constructor, allowing you to customize the copy behavior or ensure a deep copy is performed when necessary."
      ],
      "metadata": {
        "id": "HKjXyGf0UjNh"
      }
    },
    {
      "cell_type": "code",
      "source": [
        "%%shell\n",
        "cat > Main.java <<EOF\n",
        "\n",
        "class Student{\n",
        "  String name;\n",
        "  int age;\n",
        "\n",
        "  public void Info(){\n",
        "    System.out.println(this.name);\n",
        "    System.out.println(this.age);\n",
        "  }\n",
        "  // student s2 is a copy constructor\n",
        "  Student(Student s2){\n",
        "    this.name = s2.name;\n",
        "    this.age = s2.age;\n",
        "  }\n",
        "  //keep in mind when we use copy constructor we have to manually assign a empyt condition in order to run code \n",
        "  Student(){\n",
        "\n",
        "  }\n",
        "}\n",
        "\n",
        "public class Main{\n",
        "  public static void main(String[] args){\n",
        "    Student s1 = new Student(); //new is a keywords which will allocate a place in moemory head where all the value will be stored.\n",
        "    s1.name = \"anthony\";\n",
        "    s1.age = 99;\n",
        "   \n",
        "    Student s2 = new Student(s1);\n",
        "    s2.Info();\n",
        "  }\n",
        "}\n",
        "\n",
        "EOF"
      ],
      "metadata": {
        "colab": {
          "base_uri": "https://localhost:8080/"
        },
        "id": "M1Cxg1FHSNmE",
        "outputId": "dd43e981-6f51-42fc-c82c-abdd45175d4d"
      },
      "execution_count": null,
      "outputs": [
        {
          "output_type": "execute_result",
          "data": {
            "text/plain": []
          },
          "metadata": {},
          "execution_count": 52
        }
      ]
    },
    {
      "cell_type": "code",
      "source": [
        "%%shell\n",
        "javac Main.java\n",
        "java Main"
      ],
      "metadata": {
        "colab": {
          "base_uri": "https://localhost:8080/"
        },
        "id": "MF5AEW3STmPM",
        "outputId": "a459be3d-c2f5-43a5-acd9-4b02ad8be9b2"
      },
      "execution_count": null,
      "outputs": [
        {
          "output_type": "stream",
          "name": "stdout",
          "text": [
            "anthony\n",
            "99\n"
          ]
        },
        {
          "output_type": "execute_result",
          "data": {
            "text/plain": []
          },
          "metadata": {},
          "execution_count": 53
        }
      ]
    },
    {
      "cell_type": "markdown",
      "source": [
        "\n",
        "\n",
        "---\n",
        "\n"
      ],
      "metadata": {
        "id": "jwFexF0-4bvi"
      }
    },
    {
      "cell_type": "markdown",
      "source": [
        "**Destructor**\n",
        "\n",
        "In Java, there is no explicit destructor concept like in languages such as C++. Java uses automatic garbage collection to manage memory, so objects are automatically cleaned up by the JVM when they are no longer referenced or in use. Therefore, there is no need for destructors in Java."
      ],
      "metadata": {
        "id": "pnefORI741nf"
      }
    },
    {
      "cell_type": "markdown",
      "source": [
        "\n",
        "\n",
        "---\n",
        "\n"
      ],
      "metadata": {
        "id": "3X1YF1b347EM"
      }
    },
    {
      "cell_type": "markdown",
      "source": [
        "**polymorphism** = poly means many and morphism means form\n",
        "\n",
        "Polymorphism is a principle in object-oriented programming where objects of different types can be treated as objects of a common superclass, allowing for method overriding and dynamic binding, resulting in code that can work with objects of multiple types without explicit type checking or casting.*italicised text*\n",
        "\n",
        "\n",
        "> types \n",
        "  1. function overloading (compile time )\n",
        "  2. function overriding (run time)\n",
        "\n"
      ],
      "metadata": {
        "id": "x63PIjZj5AH4"
      }
    },
    {
      "cell_type": "markdown",
      "source": [
        "**function overloading [complie time]**"
      ],
      "metadata": {
        "id": "Ijfp6DjA5zvY"
      }
    },
    {
      "cell_type": "code",
      "source": [
        "%%shell\n",
        "cat > Main.java <<EOF\n",
        "\n",
        "class Student{\n",
        "  String name;\n",
        "  int age;\n",
        "\n",
        "  public void Info(){\n",
        "    System.out.println(this.name);\n",
        "    System.out.println(this.age);\n",
        "  }\n",
        "  public void Info(String name){\n",
        "    System.out.println(name);\n",
        "  }\n",
        "  public void Info(int age){\n",
        "    System.out.println(age);\n",
        "  }\n",
        "  public void Info(String name , int age){\n",
        "    System.out.println(name + \"\" + age);\n",
        "  }\n",
        "}\n",
        "\n",
        "public class Main{\n",
        "  public static void main(String[] args){\n",
        "    Student s1 = new Student(); //new is a keywords which will allocate a place in moemory head where all the value will be stored.\n",
        "    s1.name = \"anthony\";\n",
        "    s1.age = 99;\n",
        "\n",
        "    s1.Info(s1.name);\n",
        "    s1.Info(s1.age);\n",
        "\n",
        "  }\n",
        "}\n",
        "\n",
        "EOF"
      ],
      "metadata": {
        "id": "oBbtRSn548Bq",
        "colab": {
          "base_uri": "https://localhost:8080/"
        },
        "outputId": "527e91ff-ed57-4a3c-d139-d47ea5529490"
      },
      "execution_count": 16,
      "outputs": [
        {
          "output_type": "execute_result",
          "data": {
            "text/plain": []
          },
          "metadata": {},
          "execution_count": 16
        }
      ]
    },
    {
      "cell_type": "code",
      "source": [
        "%%shell\n",
        "javac Main.java\n",
        "java Main"
      ],
      "metadata": {
        "colab": {
          "base_uri": "https://localhost:8080/"
        },
        "id": "96DHXb8g_AlX",
        "outputId": "1056e54d-9344-4c92-bda4-1797b3968dde"
      },
      "execution_count": 17,
      "outputs": [
        {
          "output_type": "stream",
          "name": "stdout",
          "text": [
            "anthony\n",
            "99\n"
          ]
        },
        {
          "output_type": "execute_result",
          "data": {
            "text/plain": []
          },
          "metadata": {},
          "execution_count": 17
        }
      ]
    },
    {
      "cell_type": "markdown",
      "source": [
        ">condition\n",
        "\n",
        "  1.The methods must have the same name.\n",
        "\n",
        "  2.The methods must be defined within the same class.\n",
        "\n",
        "  3.The methods must have different parameter lists (either different types or a different number of parameters).\n",
        "\n",
        "  4.The return type of the methods can be the same or different, but it is not a determining factor for method overloading.\n",
        "\n",
        "\n",
        "\n",
        "\n"
      ],
      "metadata": {
        "id": "ngcJzen8BdEj"
      }
    },
    {
      "cell_type": "markdown",
      "source": [
        "\n",
        "\n",
        "---\n",
        "\n"
      ],
      "metadata": {
        "id": "mh7ESrvqBzG6"
      }
    },
    {
      "cell_type": "markdown",
      "source": [
        "**INHERITANCE**\n",
        ">Inheritance is a fundamental concept in object-oriented programming where a class can inherit properties and behaviors (methods and fields) from another class, enabling code reuse and establishing a hierarchical relationship between classes."
      ],
      "metadata": {
        "id": "FLqtgWytB1CC"
      }
    },
    {
      "cell_type": "code",
      "source": [
        "%%shell\n",
        "cat > Main.java <<EOF\n",
        "\n",
        "class Shape{\n",
        "  String color;\n",
        "\n",
        "}\n",
        "\n",
        "class Triangle extends Shape{\n",
        "\n",
        "}\n",
        "public class Main{\n",
        "  public static void main(String[] args){\n",
        "  Triangle t1 = new Triangle();\n",
        "  t1.color = \"red\";\n",
        "  }\n",
        "}\n",
        "\n",
        "EOF"
      ],
      "metadata": {
        "colab": {
          "base_uri": "https://localhost:8080/"
        },
        "id": "Iw3SB-00CDv-",
        "outputId": "86b2f2dc-26a5-4e95-aa20-dd65f15138c4"
      },
      "execution_count": 18,
      "outputs": [
        {
          "output_type": "execute_result",
          "data": {
            "text/plain": []
          },
          "metadata": {},
          "execution_count": 18
        }
      ]
    },
    {
      "cell_type": "code",
      "source": [
        "%%shell\n",
        "javac Main.java\n",
        "java Main"
      ],
      "metadata": {
        "colab": {
          "base_uri": "https://localhost:8080/"
        },
        "id": "7CilyhsQC9UF",
        "outputId": "eefe6f8a-aa6f-4589-f746-3d5fb714ff5d"
      },
      "execution_count": 19,
      "outputs": [
        {
          "output_type": "execute_result",
          "data": {
            "text/plain": []
          },
          "metadata": {},
          "execution_count": 19
        }
      ]
    },
    {
      "cell_type": "markdown",
      "source": [
        "**Types**\n",
        ">1. Single Inheritance: A class inherits from a single parent class, forming a one-to-one inheritance relationship.\n",
        "2. Multiple Inheritance: A class inherits from multiple parent classes, allowing it to inherit properties and behaviors from multiple sources. Java does not support multiple inheritance for classes but supports it for interfaces\n",
        "3.Multilevel Inheritance: A class inherits from another derived class, creating a chain of inheritance relationships.\n",
        "4.Hierarchical Inheritance: Multiple classes inherit from a single parent class, forming a hierarchy where one class is the parent and multiple classes are derived from it.\n",
        "5. Hybrid Inheritance: when multiple level of inheritance exist under one class example multiple and hierarchical is getting used."
      ],
      "metadata": {
        "id": "lKFiKftgDBBF"
      }
    },
    {
      "cell_type": "markdown",
      "source": [
        "**SINGLE LEVEL INHERITANCE**"
      ],
      "metadata": {
        "id": "uBJX3zrpEAAF"
      }
    },
    {
      "cell_type": "code",
      "source": [
        "%%shell\n",
        "cat > Main.java <<EOF\n",
        "//base level inheritance\n",
        "class Shape {\n",
        "  public void area(){\n",
        "    System.out.println(\"display area\");\n",
        "  }\n",
        "}\n",
        "//level one inheritance\n",
        "class Triangle extends Shape{\n",
        "  public void area(int l , int h){\n",
        "    System.out.println(1/2*l*h);\n",
        "  }\n",
        "}\n",
        "\n",
        "public class Main{\n",
        "  public static void main(String[] args){\n",
        "  \n",
        "  }\n",
        "}\n",
        "\n",
        "EOF"
      ],
      "metadata": {
        "colab": {
          "base_uri": "https://localhost:8080/"
        },
        "id": "gMZ971TuDXiw",
        "outputId": "40ec9543-cf1f-4bf1-bca2-0f9c8d8a1f0b"
      },
      "execution_count": 24,
      "outputs": [
        {
          "output_type": "execute_result",
          "data": {
            "text/plain": []
          },
          "metadata": {},
          "execution_count": 24
        }
      ]
    },
    {
      "cell_type": "code",
      "source": [
        "%%shell\n",
        "javac Main.java\n",
        "java Main"
      ],
      "metadata": {
        "colab": {
          "base_uri": "https://localhost:8080/"
        },
        "id": "bi2Y2OipEIZU",
        "outputId": "b70ce2ae-8ba7-472c-d109-2d6449f49966"
      },
      "execution_count": 23,
      "outputs": [
        {
          "output_type": "execute_result",
          "data": {
            "text/plain": []
          },
          "metadata": {},
          "execution_count": 23
        }
      ]
    },
    {
      "cell_type": "markdown",
      "source": [
        "**multi level inheritance**"
      ],
      "metadata": {
        "id": "bscUSAN3FE2E"
      }
    },
    {
      "cell_type": "code",
      "source": [
        "%%shell\n",
        "cat > Main.java <<EOF\n",
        "//base level inheritance\n",
        "class Shape {\n",
        "  public void area(){\n",
        "    System.out.println(\"display area\");\n",
        "  }\n",
        "}\n",
        "//level one inheritance\n",
        "class Triangle extends Shape{\n",
        "  public void area(int l , int h){\n",
        "    System.out.println(1/2*l*h);\n",
        "  }\n",
        "}\n",
        "//level two inheritance \n",
        "class Equilateral_triangle extends Triangle{\n",
        "  public void area(int l, int h){\n",
        "    System.out.println(1/2*h*l);\n",
        "  }\n",
        "}\n",
        "\n",
        "public class Main{\n",
        "  public static void main(String[] args){\n",
        "  \n",
        "  }\n",
        "}\n",
        "\n",
        "EOF"
      ],
      "metadata": {
        "id": "4c8e5qttFLzt"
      },
      "execution_count": null,
      "outputs": []
    },
    {
      "cell_type": "code",
      "source": [
        "%%shell\n",
        "javac Main.java\n",
        "java Main"
      ],
      "metadata": {
        "id": "zrhnuRpzF701"
      },
      "execution_count": null,
      "outputs": []
    },
    {
      "cell_type": "markdown",
      "source": [
        "**Hierarchial inheritance**"
      ],
      "metadata": {
        "id": "4S80GRb1GAQu"
      }
    },
    {
      "cell_type": "code",
      "source": [
        "%%shell\n",
        "cat > Main.java <<EOF\n",
        "//base level inheritance\n",
        "class Shape {\n",
        "  public void area(){\n",
        "    System.out.println(\"display area\");\n",
        "  }\n",
        "}\n",
        "//connect to same base level property \n",
        "class Triangle extends Shape{\n",
        "  public void area(int l , int h){\n",
        "    System.out.println(1/2*l*h);\n",
        "  }\n",
        "}\n",
        "//conncet to same base level property\n",
        "class Circle extends Shape{\n",
        "  public void area(int r){\n",
        "    System.out.println((3.14)*r*r);\n",
        "  }\n",
        "}\n",
        "\n",
        "public class Main{\n",
        "  public static void main(String[] args){\n",
        "  \n",
        "  }\n",
        "}\n",
        "\n",
        "EOF"
      ],
      "metadata": {
        "id": "ijb2xV0XGJQO"
      },
      "execution_count": null,
      "outputs": []
    },
    {
      "cell_type": "markdown",
      "source": [
        "Access Modifiers\n",
        ">\n",
        "Access modifiers in Java control the accessibility or visibility of classes, variables, methods, and constructors. There are four access modifiers in Java:\n",
        "\n",
        "1. Public: The public access modifier allows the entity to be accessed from anywhere, including other classes, packages, and even outside the project.\n",
        "\n",
        "2. Protected: The protected access modifier allows the entity to be accessed within the same package and by subclasses (even if they are in different packages).\n",
        "\n",
        "3. Default (no modifier): If no access modifier is specified, it is considered the default access modifier. The default access allows the entity to be accessed within the same package but not from outside.\n",
        "\n",
        "4. Private: The private access modifier restricts the entity's accessibility to only within the same class. It cannot be accessed from any other class, even subclasses or classes within the same package."
      ],
      "metadata": {
        "id": "sRBDq9N6HNJ1"
      }
    },
    {
      "cell_type": "markdown",
      "source": [
        "Getters and setters are methods used to access and modify the values of private member variables in a class.\n",
        "\n",
        "A getter (also known as an accessor) is a method that retrieves the value of a private variable, providing read-only access to the variable's value.\n",
        "\n",
        "A setter (also known as a mutator) is a method that modifies the value of a private variable, providing write access to update the variable's value.\n",
        "\n",
        "Getters and setters are often used to enforce encapsulation, allowing controlled access to private variables while providing an interface for interacting with the object's state. They enable data abstraction and help maintain data integrity by enforcing validation or business rules during value assignment or retrieval.\n",
        "\n",
        "\n",
        "\n"
      ],
      "metadata": {
        "id": "NdkMEgptLJh7"
      }
    },
    {
      "cell_type": "markdown",
      "source": [
        "**Encapsulation**"
      ],
      "metadata": {
        "id": "iDZ5A6VRS_66"
      }
    },
    {
      "cell_type": "markdown",
      "source": [
        "Encapsulation is one of the fundamental concepts in object-oriented programming (OOP), including the Java programming language. It refers to the bundling of data and methods that operate on that data into a single unit called an object. Encapsulation provides a way to hide the internal implementation details of an object and restrict access to its internal state.\n",
        "\n",
        "In Java, encapsulation is achieved through the use of classes and access modifiers. A class serves as a blueprint for creating objects, and it encapsulates the data and methods within its scope. The data members of a class are typically declared as private, which means they can only be accessed within the same class.\n",
        "\n",
        "To provide controlled access to the private data members, Java offers various access modifiers such as public, private, protected, and default (also known as package-private). These modifiers determine the level of visibility and accessibility of the members within and outside the class.\n",
        "\n",
        "By making the data members private and providing public methods (getters and setters) to access and modify them, encapsulation allows for better control over the state of an object. This approach ensures that the internal state remains consistent and prevents direct manipulation of the data from external code.\n",
        "\n",
        "Benefits of encapsulation in Java:\n",
        "1. Data hiding: Encapsulation hides the internal details and provides a clear separation between the implementation and usage of an object. This protects the integrity of the data and prevents unauthorized access or modification.\n",
        "\n",
        "2. Abstraction: Encapsulation allows you to define public interfaces (methods) that provide a simplified way to interact with the object. The user of the object doesn't need to know about its internal complexities; they only need to use the provided methods.\n",
        "\n",
        "3. Modularity and maintainability: Encapsulating data and methods into a single unit promotes modularity. Changes in the internal implementation of an object can be made without affecting the code that uses the object, as long as the public interface remains the same. This improves code maintainability and reusability.\n",
        "\n",
        "4. Security and error control: Encapsulation helps in enforcing access restrictions on data members, preventing unauthorized access or modification. It also allows for better error checking and validation of data before it is modified.\n",
        "\n",
        "In summary, encapsulation in Java is the practice of bundling data and methods within a class, using access modifiers to control visibility and providing public interfaces for interacting with the object. It promotes data hiding, abstraction, modularity, maintainability, security, and error control in object-oriented programming."
      ],
      "metadata": {
        "id": "3DiqetDJLxYe"
      }
    },
    {
      "cell_type": "code",
      "source": [
        "%%shell\n",
        "cat > Main.java <<EOF\n",
        "// their is no need of user to see the animal class so we will make this as a abstraction class\n",
        "//which will hide the animal class casue it not necessary\n",
        "abstract class Animal{\n",
        "  abstract void walk();\n",
        "}\n",
        "class Horse extends Animal{\n",
        "  public void walk(){\n",
        "    System.out.println(\"walk on 4 legs\");\n",
        "  }\n",
        "}\n",
        "class Chicker extends Animal{\n",
        "  public void walk(){\n",
        "    System.out.println(\"walk on 2 legs\");\n",
        "  }\n",
        "}\n",
        "public class Main{\n",
        "  public static void main(String[] args){\n",
        "    Horse horse = new Horse();\n",
        "    horse.walk();\n",
        "  }\n",
        "}\n",
        "\n",
        "EOF"
      ],
      "metadata": {
        "colab": {
          "base_uri": "https://localhost:8080/"
        },
        "id": "WN8TzMn4TQAD",
        "outputId": "f6b7e0c3-5d21-4f8f-a645-7dad3e4d7ec1"
      },
      "execution_count": 1,
      "outputs": [
        {
          "output_type": "execute_result",
          "data": {
            "text/plain": []
          },
          "metadata": {},
          "execution_count": 1
        }
      ]
    },
    {
      "cell_type": "code",
      "source": [
        "%%shell\n",
        "javac Main.java\n",
        "java Main"
      ],
      "metadata": {
        "colab": {
          "base_uri": "https://localhost:8080/"
        },
        "id": "49UPkzLVUsg3",
        "outputId": "7d8936dd-9c84-49d8-d271-6c7524ed4ace"
      },
      "execution_count": 2,
      "outputs": [
        {
          "output_type": "stream",
          "name": "stdout",
          "text": [
            "walk on 4 legs\n"
          ]
        },
        {
          "output_type": "execute_result",
          "data": {
            "text/plain": []
          },
          "metadata": {},
          "execution_count": 2
        }
      ]
    },
    {
      "cell_type": "markdown",
      "source": [
        "**constructor chaing**"
      ],
      "metadata": {
        "id": "1OMNE2EyVQEI"
      }
    },
    {
      "cell_type": "code",
      "source": [
        "%%shell\n",
        "cat > Main.java <<EOF\n",
        "// first base class constructor is getting called then dervied class\n",
        "abstract class Animal{\n",
        "  abstract void walk();\n",
        "  Animal(){\n",
        "    System.out.println(\"you are creating a new animal\");\n",
        "  }\n",
        "}\n",
        "class Horse extends Animal{\n",
        "  Horse(){\n",
        "    System.out.println(\"created a horse\");\n",
        "  }\n",
        "  public void walk(){\n",
        "    System.out.println(\"walk on 4 legs\");\n",
        "  }\n",
        "}\n",
        "class Chicker extends Animal{\n",
        "  public void walk(){\n",
        "    System.out.println(\"walk on 2 legs\");\n",
        "  }\n",
        "}\n",
        "public class Main{\n",
        "  public static void main(String[] args){\n",
        "    Horse horse = new Horse();\n",
        "    horse.walk();\n",
        "  }\n",
        "}\n",
        "\n",
        "EOF"
      ],
      "metadata": {
        "colab": {
          "base_uri": "https://localhost:8080/"
        },
        "id": "kwUaFPbAVT_N",
        "outputId": "46d1579d-43d7-4bd5-d27e-c315f246edba"
      },
      "execution_count": 5,
      "outputs": [
        {
          "output_type": "execute_result",
          "data": {
            "text/plain": []
          },
          "metadata": {},
          "execution_count": 5
        }
      ]
    },
    {
      "cell_type": "code",
      "source": [
        "%%shell\n",
        "javac Main.java\n",
        "java Main"
      ],
      "metadata": {
        "colab": {
          "base_uri": "https://localhost:8080/"
        },
        "id": "SJZR41l7VqMx",
        "outputId": "8a494801-ca21-40d3-f145-a84cdac9b85a"
      },
      "execution_count": 6,
      "outputs": [
        {
          "output_type": "stream",
          "name": "stdout",
          "text": [
            "you are creating a new animal\n",
            "created a horse\n",
            "walk on 4 legs\n"
          ]
        },
        {
          "output_type": "execute_result",
          "data": {
            "text/plain": []
          },
          "metadata": {},
          "execution_count": 6
        }
      ]
    },
    {
      "cell_type": "markdown",
      "source": [
        "\n",
        "**INTERFACE**"
      ],
      "metadata": {
        "id": "B2_7u6FMzptB"
      }
    },
    {
      "cell_type": "code",
      "source": [
        "%%shell\n",
        "cat > Main.java <<EOF\n",
        "//interface just defines/declared \n",
        "interface Animal{\n",
        "  int eye = 2;\n",
        "  public void walk(); //in this line you can remove the public keyword cause this is both abstarct as well as public\n",
        " \n",
        "}\n",
        "class Horse implements Animal{\n",
        "  public void walk(){\n",
        "    System.out.println(\"walk on 4 leg i guess\");\n",
        "  }\n",
        "}\n",
        "public class Main{\n",
        "  public static void main(String[] args){\n",
        "    Horse horse = new Horse();\n",
        "    horse.walk();\n",
        "  }\n",
        "}\n",
        "\n",
        "EOF"
      ],
      "metadata": {
        "colab": {
          "base_uri": "https://localhost:8080/"
        },
        "id": "WVW6oBpQzwnc",
        "outputId": "e1b2e42e-5ec8-487d-ef56-1761f1853d11"
      },
      "execution_count": 4,
      "outputs": [
        {
          "output_type": "execute_result",
          "data": {
            "text/plain": []
          },
          "metadata": {},
          "execution_count": 4
        }
      ]
    },
    {
      "cell_type": "code",
      "source": [
        "%%shell\n",
        "javac Main.java\n",
        "java Main"
      ],
      "metadata": {
        "colab": {
          "base_uri": "https://localhost:8080/"
        },
        "id": "J0cV6G5U42Yv",
        "outputId": "666c25c3-83d8-413b-cb3a-3b783b4bafe4"
      },
      "execution_count": 5,
      "outputs": [
        {
          "output_type": "stream",
          "name": "stdout",
          "text": [
            "walk on 4 leg i guess\n"
          ]
        },
        {
          "output_type": "execute_result",
          "data": {
            "text/plain": []
          },
          "metadata": {},
          "execution_count": 5
        }
      ]
    },
    {
      "cell_type": "markdown",
      "source": [
        "In Java, an interface is a contract that classes can choose to adhere to. It specifies a set of method declarations without implementations. Classes implement interfaces by providing the actual method implementations. Interfaces allow for abstraction, multiple inheritance-like behavior, and code reuse in Java. They can also contain constant variables and, starting from Java 8, default methods.\n",
        "\n",
        "\n",
        "\n",
        "peoperty in keypoints\n",
        "\n",
        "Java interfaces define a contract or set of rules for classes to follow.\n",
        "\n",
        "Interfaces specify method declarations without implementations.\n",
        "\n",
        "Classes implement interfaces by providing the actual method implementations.\n",
        "\n",
        "Interfaces allow for abstraction and provide a way to achieve multiple \n",
        "inheritance-like behavior.\n",
        "\n",
        "Interfaces promote code reuse and modular design.\n",
        "\n",
        "Interfaces can contain constant variables.\n",
        "\n",
        "Starting from Java 8, interfaces can have default methods.\n",
        "\n",
        "Marker interfaces are interfaces without any methods, used as tags.\n",
        "\n",
        "Functional interfaces are interfaces with a single abstract method, \n",
        "supporting functional programming.\n",
        "\n",
        "Interfaces can inherit from other interfaces using the extends keyword."
      ],
      "metadata": {
        "id": "qka-6yeW42r-"
      }
    },
    {
      "cell_type": "markdown",
      "source": [
        "\n",
        "\n",
        "---\n",
        "\n"
      ],
      "metadata": {
        "id": "tzN78PA95iTc"
      }
    },
    {
      "cell_type": "markdown",
      "source": [
        "**MULTIPLE INHERITANCE**\n",
        "\n",
        "keep in mind that multiple inheritacne is only possible through interface and its is a interview realted question let's see with a example"
      ],
      "metadata": {
        "id": "P3T_hK755jWV"
      }
    },
    {
      "cell_type": "code",
      "source": [
        "%%shell\n",
        "cat > Main.java <<EOF\n",
        "//interface just defines/declared \n",
        "interface Animal{\n",
        "  int eye = 2;\n",
        "  public void walk(); //in this line you can remove the public keyword cause this is both abstarct as well as public\n",
        " \n",
        "}\n",
        "//see here mutiple heritance is also taking palce using interface\n",
        "interface Herbivore{\n",
        "\n",
        "}\n",
        "class Horse implements Animal,Herbivore{\n",
        "  public void walk(){\n",
        "    SYstem.out.println(\"walk on 4 leg i guess\");\n",
        "  }\n",
        "}\n",
        "public class Main{\n",
        "  public static void main(String[] args){\n",
        "    Horse horse = new Horse();\n",
        "    horse.walk();\n",
        "  }\n",
        "}\n",
        "\n",
        "EOF"
      ],
      "metadata": {
        "id": "MvwRWcOK5rSp"
      },
      "execution_count": null,
      "outputs": []
    },
    {
      "cell_type": "code",
      "source": [
        "%%shell\n",
        "javac Main.java\n",
        "java Main"
      ],
      "metadata": {
        "colab": {
          "base_uri": "https://localhost:8080/"
        },
        "id": "xmoiF_ND6YSp",
        "outputId": "742bb38a-85af-4cc6-c61c-af0dec0469a2"
      },
      "execution_count": 6,
      "outputs": [
        {
          "output_type": "stream",
          "name": "stdout",
          "text": [
            "walk on 4 leg i guess\n"
          ]
        },
        {
          "output_type": "execute_result",
          "data": {
            "text/plain": []
          },
          "metadata": {},
          "execution_count": 6
        }
      ]
    },
    {
      "cell_type": "markdown",
      "source": [
        "\n",
        "\n",
        "---\n",
        "\n"
      ],
      "metadata": {
        "id": "Ja2HOUHZ7ICJ"
      }
    },
    {
      "cell_type": "markdown",
      "source": [
        "static keyword and its properties:\n",
        "\n",
        "The static keyword in Java is used to define members (variables and methods) that belong to the class itself, rather than instances of the class.\n",
        "Properties of the static keyword:\n",
        "\n",
        "* Shared: Static variables are shared among all instances of the class.\n",
        "\n",
        "* Access: Static members can be accessed using the class name, without creating an object of the class.\n",
        "\n",
        "* Utility: Static methods are commonly used for utility functions and operations that don't require access to instance-specific data.\n",
        "\n",
        "* Constants: Static variables are often used to declare constants with fixed values.\n",
        "\n",
        "* Class Loading: Static members are loaded into memory when the class is loaded and are available throughout the program's execution.\n",
        "\n",
        "* Restrictions: Static methods cannot directly access non-static members, cannot be overridden, and are not inherited by subclasses.\n",
        "\n",
        "Note = if we want to save memory we can use static keywords cause class get memory get assigned again and again but staic memory allocation is one time job.\n",
        "\n",
        "In summary, the static keyword in Java defines class-level members that are shared among instances, can be accessed using the class name, and have properties such as shared data, utility functions, and constants."
      ],
      "metadata": {
        "id": "Kd70MOtr7I0p"
      }
    },
    {
      "cell_type": "code",
      "source": [
        "%%shell\n",
        "cat > Main.java <<EOF\n",
        "class Student {\n",
        "  String name;\n",
        "  static String school_name;\n",
        "}\n",
        "\n",
        "public class Main{\n",
        "  public static void main(String[] args){\n",
        "   Student.school_name = \"kv\";\n",
        "   Student student1 = new Student();\n",
        "   student1.name =\"SAMMMY\";\n",
        "   System.out.println(student1.school_name);\n",
        "  }\n",
        "}\n",
        "\n",
        "EOF"
      ],
      "metadata": {
        "colab": {
          "base_uri": "https://localhost:8080/"
        },
        "id": "-DNa26Zn7bKo",
        "outputId": "4811303a-b754-4b68-8316-35b09523a8ab"
      },
      "execution_count": 11,
      "outputs": [
        {
          "output_type": "execute_result",
          "data": {
            "text/plain": []
          },
          "metadata": {},
          "execution_count": 11
        }
      ]
    },
    {
      "cell_type": "code",
      "source": [
        "%%shell\n",
        "javac Main.java\n",
        "java Main"
      ],
      "metadata": {
        "colab": {
          "base_uri": "https://localhost:8080/"
        },
        "id": "EQ9VGDP47mfQ",
        "outputId": "7c04a563-26ed-4de2-a605-4e4c8660fe6b"
      },
      "execution_count": 12,
      "outputs": [
        {
          "output_type": "stream",
          "name": "stdout",
          "text": [
            "kv\n"
          ]
        },
        {
          "output_type": "execute_result",
          "data": {
            "text/plain": []
          },
          "metadata": {},
          "execution_count": 12
        }
      ]
    }
  ]
}